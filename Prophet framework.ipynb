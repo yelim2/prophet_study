{
 "cells": [
  {
   "cell_type": "markdown",
   "id": "f7682c1b",
   "metadata": {},
   "source": [
    "# Prophet\n",
    "<hr>\n",
    "\n",
    "###   [y(t)=g(t)+s(t)+h(t)+error\\] Growth, Seasonality, Holidays\n",
    "\n",
    "### 1. g(t): 시간의 변화에 따라 비주기성을 띠고 있는 변화를 모델링함  \n",
    "  비주기적인 추세를 가지는 트렌드(linear, logistic과 같은 s자 모형으로 모델링)\n",
    "  \n",
    "### 2. s(t): 주, 월, 연 단위의 주기성을 보이는 변화를 감지하고 모델링함  \n",
    "  주간/연간 주기성\n",
    "  \n",
    "### 3. h(t): 휴일/휴가, 비정기적인 사건과 같은 변화를 모델링함  \n",
    "  주기성은 없지만 전체 추이에 큰 영향을 주는 불규칙 이벤트. 이벤트 효과는 독립적이라고 가정. <br>\n",
    "  이벤트 앞뒤로 Window 범위를 지정해 해당 이벤트가 미치는 영향의 범위를 설정할 수 있음\n",
    "  \n",
    "### 4. ϵt: 모델링이 되지 않는 특이한 변화를 모델링함 \n"
   ]
  },
  {
   "cell_type": "markdown",
   "id": "0061aaa7",
   "metadata": {},
   "source": [
    "## Prophet Hyper Parameter\n",
    "<hr>\n",
    "\n",
    "### 데이터의 상한 하한의 설정\n",
    "* growth 파라미터 logistic으로 설정\n",
    "* ['cap'], ['floor'] 만들고 설정 (둘중에 한가지만 설정해도 OK)\n",
    "\n",
    "### 변동 포인트의 설정\n",
    "* 변동 포인트의 수, 찾는 기준이 되는 데이터의 길이, 어느 정도의 변화를 변동점으로 할 것인지를 조정\n",
    "* 모델에서 변동을 찾아 나눈 구간을 확인 후 changepoint_range를 조정 \n",
    "* prophet은 오버피팅을 피하기 위해 학습 데이터의 앞부분 80%의 데이터만을 사용하는데, \n",
    "  이 범위를 changepoint_range로 조정 가능\n",
    "* 변동점을 찾는 유동성(flexibility)도 변경 가능한데, changepoint_prior_scale을 조정하면 좀 더 유동적이어짐(but,오버피팅의 우려가 있음)\n",
    "* 변동점은 지정한 changepoint_prior_scale에 따라 그 숫자가 정해지는데, 이 숫자를 지정하고 싶은 경우 n_changepoints의 파라미터 숫자를 바꾸면 됨\n",
    "* 추가적으로, changepoints로 특정 날짜를 변동점으로 지정하는 것도 가능\n",
    "\n",
    "### 계절성의 조정\n",
    "* 푸리에 급수의 부분합을 이용하는데 몇 차수까지 합을 이용할지 정하는 파라미터\n",
    "* yearly_seasonality, weekly_seasonality, daily_seasonality 조정, 값을 올리면 계절성의 fitting이 더 복잡해진다\n",
    "    * 사용하지 않을거면 weekly_seasonality=False로 입력\n",
    "    * 그냥 봤을 때 20으로 올리면 그래프상 변동이 많아짐\n",
    "* seasonality_mode : 분산이 시간에 따라 변동하는 경우, seasonality_mode를 multiplicative로 설정\n",
    "    * seasonality_mode는 dafault가 additive (additive = 덧셈, multiplicative = 곱셈)\n",
    "* seasonality_prior_scales는 전체 데이터에서의 계절성의 영향도를 조정하는 파라미터로 값을 낮추면, 계절성의 영향도를 낮출 수 있음(default=10)\n",
    "* add_seasonality는 파라미터라기 보다는 새로운 커스터마이즈 한 계절성을 추가하는 메서드임\n",
    "    * 예시) m.add_seasonality(name='monthly', period=30.5, fourier_order=5)\n",
    "\n",
    "### 특별 이벤트의 추가\n",
    "* holidays에 특별한 날짜의 이벤트, 휴일을 넣는 것이 가능함\n",
    "* holidays_prior_scale로 holidays의 강도 조절이 가능함\n",
    "* 추가적인 설명 변수를 넣어 linear regression 항목도 추가 가능 \n",
    "    * 예시) m.add_regressor('nfl_sunday')\n",
    "\n",
    "### 신뢰 구간의 조정\n",
    "* interval_width로 지정 가능\n",
    "    * 예시) forecast = Prophet(interval_width=0.95).fit(df).predict(future)\n",
    "* 계절성의 신뢰구간 구할 시 mcmc_sample 지정하며, 지정 파라미터는 신뢰구간 구하기 위한 샘플 수\n",
    "    * 예시) m = Prophet(mcmc_samples=300)\n",
    "    \n",
    "[Hyper Parameter 참고링크](https://predictor-ver1.tistory.com/4)"
   ]
  },
  {
   "cell_type": "markdown",
   "id": "fa479c2a",
   "metadata": {},
   "source": [
    "[Prophet Hyper Parameter 참고링크](https://zzsza.github.io/data/2019/02/06/prophet/)  \n",
    "[Markdown 작성 참고링크](https://leedakyeong.tistory.com/entry/Markdown-Jupyter-Notebook-%EC%A3%BC%ED%94%BC%ED%84%B0-%EB%85%B8%ED%8A%B8%EB%B6%81-%EB%A7%88%ED%81%AC%EB%8B%A4%EC%9A%B4-%EC%A0%95%EB%A6%AC)"
   ]
  },
  {
   "cell_type": "code",
   "execution_count": 1,
   "id": "f9a88b18",
   "metadata": {},
   "outputs": [],
   "source": [
    "import pandas as pd\n",
    "import numpy as np\n",
    "import matplotlib.pyplot as plt\n",
    "import prophet"
   ]
  },
  {
   "cell_type": "code",
   "execution_count": null,
   "id": "60f934dd",
   "metadata": {},
   "outputs": [],
   "source": []
  }
 ],
 "metadata": {
  "kernelspec": {
   "display_name": "Python 3 (ipykernel)",
   "language": "python",
   "name": "python3"
  },
  "language_info": {
   "codemirror_mode": {
    "name": "ipython",
    "version": 3
   },
   "file_extension": ".py",
   "mimetype": "text/x-python",
   "name": "python",
   "nbconvert_exporter": "python",
   "pygments_lexer": "ipython3",
   "version": "3.9.13"
  }
 },
 "nbformat": 4,
 "nbformat_minor": 5
}
